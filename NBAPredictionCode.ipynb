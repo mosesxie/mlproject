{
 "cells": [
  {
   "cell_type": "code",
   "execution_count": 3,
   "metadata": {},
   "outputs": [],
   "source": [
    "# Import necessary packages\n",
    "\n",
    "%matplotlib inline\n",
    "\n",
    "import pandas as pd\n",
    "import numpy as np\n",
    "import matplotlib.pyplot as plt\n",
    "from sklearn.neural_network import MLPClassifier\n",
    "import sklearn.metrics as metrics\n",
    "from sklearn.model_selection import KFold\n",
    "from operator import itemgetter\n",
    "from sklearn.model_selection import cross_val_score\n",
    "from sklearn.model_selection import RandomizedSearchCV\n",
    "from sklearn.model_selection import train_test_split\n",
    "from sklearn.svm import SVC\n",
    "from sklearn.ensemble import RandomForestClassifier\n",
    "from sklearn import neighbors\n",
    "import seaborn as sns\n",
    "from sklearn import linear_model, preprocessing"
   ]
  },
  {
   "cell_type": "code",
   "execution_count": 4,
   "metadata": {},
   "outputs": [
    {
     "data": {
      "text/html": [
       "<div>\n",
       "<style scoped>\n",
       "    .dataframe tbody tr th:only-of-type {\n",
       "        vertical-align: middle;\n",
       "    }\n",
       "\n",
       "    .dataframe tbody tr th {\n",
       "        vertical-align: top;\n",
       "    }\n",
       "\n",
       "    .dataframe thead th {\n",
       "        text-align: right;\n",
       "    }\n",
       "</style>\n",
       "<table border=\"1\" class=\"dataframe\">\n",
       "  <thead>\n",
       "    <tr style=\"text-align: right;\">\n",
       "      <th></th>\n",
       "      <th>SeasonID</th>\n",
       "      <th>Player</th>\n",
       "      <th>Season</th>\n",
       "      <th>Age</th>\n",
       "      <th>Tm</th>\n",
       "      <th>Lg</th>\n",
       "      <th>Pos</th>\n",
       "      <th>G</th>\n",
       "      <th>GS</th>\n",
       "      <th>MPG</th>\n",
       "      <th>...</th>\n",
       "      <th>DWS</th>\n",
       "      <th>WS</th>\n",
       "      <th>WS/48</th>\n",
       "      <th>OBPM</th>\n",
       "      <th>DBPM</th>\n",
       "      <th>BPM</th>\n",
       "      <th>VORP</th>\n",
       "      <th>PlayerID</th>\n",
       "      <th>Hall of Fame</th>\n",
       "      <th>All Star</th>\n",
       "    </tr>\n",
       "  </thead>\n",
       "  <tbody>\n",
       "    <tr>\n",
       "      <th>0</th>\n",
       "      <td>0</td>\n",
       "      <td>Alaa Abdelnaby</td>\n",
       "      <td>1990-91</td>\n",
       "      <td>22</td>\n",
       "      <td>POR</td>\n",
       "      <td>NBA</td>\n",
       "      <td>PF</td>\n",
       "      <td>43</td>\n",
       "      <td>0</td>\n",
       "      <td>6.7</td>\n",
       "      <td>...</td>\n",
       "      <td>0.5</td>\n",
       "      <td>0.5</td>\n",
       "      <td>0.079</td>\n",
       "      <td>-4.2</td>\n",
       "      <td>-0.7</td>\n",
       "      <td>-5.0</td>\n",
       "      <td>-0.2</td>\n",
       "      <td>0</td>\n",
       "      <td>0</td>\n",
       "      <td>0</td>\n",
       "    </tr>\n",
       "    <tr>\n",
       "      <th>1</th>\n",
       "      <td>43</td>\n",
       "      <td>Mahmoud Abdul-Rauf</td>\n",
       "      <td>1990-91</td>\n",
       "      <td>21</td>\n",
       "      <td>DEN</td>\n",
       "      <td>NBA</td>\n",
       "      <td>PG</td>\n",
       "      <td>67</td>\n",
       "      <td>19</td>\n",
       "      <td>22.5</td>\n",
       "      <td>...</td>\n",
       "      <td>-0.3</td>\n",
       "      <td>-1.0</td>\n",
       "      <td>-0.031</td>\n",
       "      <td>-1.7</td>\n",
       "      <td>-4.4</td>\n",
       "      <td>-6.1</td>\n",
       "      <td>-1.6</td>\n",
       "      <td>3</td>\n",
       "      <td>0</td>\n",
       "      <td>0</td>\n",
       "    </tr>\n",
       "    <tr>\n",
       "      <th>2</th>\n",
       "      <td>52</td>\n",
       "      <td>Tariq Abdul-Wahad</td>\n",
       "      <td>1997-98</td>\n",
       "      <td>23</td>\n",
       "      <td>SAC</td>\n",
       "      <td>NBA</td>\n",
       "      <td>SG</td>\n",
       "      <td>59</td>\n",
       "      <td>16</td>\n",
       "      <td>16.3</td>\n",
       "      <td>...</td>\n",
       "      <td>0.6</td>\n",
       "      <td>-0.2</td>\n",
       "      <td>-0.008</td>\n",
       "      <td>-4.2</td>\n",
       "      <td>-1.7</td>\n",
       "      <td>-5.9</td>\n",
       "      <td>-0.9</td>\n",
       "      <td>4</td>\n",
       "      <td>0</td>\n",
       "      <td>0</td>\n",
       "    </tr>\n",
       "    <tr>\n",
       "      <th>3</th>\n",
       "      <td>62</td>\n",
       "      <td>Shareef Abdur-Rahim</td>\n",
       "      <td>1996-97</td>\n",
       "      <td>20</td>\n",
       "      <td>VAN</td>\n",
       "      <td>NBA</td>\n",
       "      <td>PF</td>\n",
       "      <td>80</td>\n",
       "      <td>71</td>\n",
       "      <td>35.0</td>\n",
       "      <td>...</td>\n",
       "      <td>1.2</td>\n",
       "      <td>2.9</td>\n",
       "      <td>0.049</td>\n",
       "      <td>-0.8</td>\n",
       "      <td>-1.2</td>\n",
       "      <td>-2.0</td>\n",
       "      <td>0.0</td>\n",
       "      <td>5</td>\n",
       "      <td>0</td>\n",
       "      <td>1</td>\n",
       "    </tr>\n",
       "    <tr>\n",
       "      <th>4</th>\n",
       "      <td>88</td>\n",
       "      <td>Alex Abrines</td>\n",
       "      <td>2016-17</td>\n",
       "      <td>23</td>\n",
       "      <td>OKC</td>\n",
       "      <td>NBA</td>\n",
       "      <td>SG</td>\n",
       "      <td>66</td>\n",
       "      <td>6</td>\n",
       "      <td>15.5</td>\n",
       "      <td>...</td>\n",
       "      <td>0.9</td>\n",
       "      <td>2.0</td>\n",
       "      <td>0.094</td>\n",
       "      <td>-0.4</td>\n",
       "      <td>-2.3</td>\n",
       "      <td>-2.7</td>\n",
       "      <td>-0.2</td>\n",
       "      <td>9</td>\n",
       "      <td>0</td>\n",
       "      <td>0</td>\n",
       "    </tr>\n",
       "  </tbody>\n",
       "</table>\n",
       "<p>5 rows × 55 columns</p>\n",
       "</div>"
      ],
      "text/plain": [
       "   SeasonID               Player   Season  Age   Tm   Lg Pos   G  GS   MPG  \\\n",
       "0         0       Alaa Abdelnaby  1990-91   22  POR  NBA  PF  43   0   6.7   \n",
       "1        43   Mahmoud Abdul-Rauf  1990-91   21  DEN  NBA  PG  67  19  22.5   \n",
       "2        52    Tariq Abdul-Wahad  1997-98   23  SAC  NBA  SG  59  16  16.3   \n",
       "3        62  Shareef Abdur-Rahim  1996-97   20  VAN  NBA  PF  80  71  35.0   \n",
       "4        88         Alex Abrines  2016-17   23  OKC  NBA  SG  66   6  15.5   \n",
       "\n",
       "     ...     DWS   WS  WS/48  OBPM  DBPM  BPM  VORP  PlayerID  Hall of Fame  \\\n",
       "0    ...     0.5  0.5  0.079  -4.2  -0.7 -5.0  -0.2         0             0   \n",
       "1    ...    -0.3 -1.0 -0.031  -1.7  -4.4 -6.1  -1.6         3             0   \n",
       "2    ...     0.6 -0.2 -0.008  -4.2  -1.7 -5.9  -0.9         4             0   \n",
       "3    ...     1.2  2.9  0.049  -0.8  -1.2 -2.0   0.0         5             0   \n",
       "4    ...     0.9  2.0  0.094  -0.4  -2.3 -2.7  -0.2         9             0   \n",
       "\n",
       "   All Star  \n",
       "0         0  \n",
       "1         0  \n",
       "2         0  \n",
       "3         1  \n",
       "4         0  \n",
       "\n",
       "[5 rows x 55 columns]"
      ]
     },
     "execution_count": 4,
     "metadata": {},
     "output_type": "execute_result"
    }
   ],
   "source": [
    "# Import the datasets\n",
    "\n",
    "rookieDf = pd.read_csv('2017-rookies.csv')\n",
    "pastDf = pd.read_csv('historical-rookies.csv')\n",
    "\n",
    "# Preview the historical dataset\n",
    "\n",
    "pastDf.head()"
   ]
  },
  {
   "cell_type": "code",
   "execution_count": 5,
   "metadata": {},
   "outputs": [
    {
     "data": {
      "text/plain": [
       "array(['SeasonID', 'Player', 'Season', 'Age', 'Tm', 'Lg', 'Pos', 'G',\n",
       "       'GS', 'MPG', 'FG/G', 'FGA/G', 'FG%', '3P/G', '3PA/G', '3P%',\n",
       "       '2P/G', '2PA/G', '2P%', 'eFG%', 'FT/G', 'FTA/G', 'FT%', 'ORB/G',\n",
       "       'DRB/G', 'TRB/G', 'AST/G', 'STL/G', 'BLK/G', 'TOV/G', 'PF/G',\n",
       "       'PTS/G', 'PER', 'TS%', '3PAr', 'FTr', 'ORB%', 'DRB%', 'TRB%',\n",
       "       'AST%', 'STL%', 'BLK%', 'TOV%', 'USG%', 'OWS', 'DWS', 'WS',\n",
       "       'WS/48', 'OBPM', 'DBPM', 'BPM', 'VORP', 'PlayerID', 'Hall of Fame',\n",
       "       'All Star'], dtype=object)"
      ]
     },
     "execution_count": 5,
     "metadata": {},
     "output_type": "execute_result"
    }
   ],
   "source": [
    "pastDf.columns.values"
   ]
  },
  {
   "cell_type": "code",
   "execution_count": 6,
   "metadata": {
    "scrolled": false
   },
   "outputs": [
    {
     "data": {
      "text/html": [
       "<div>\n",
       "<style scoped>\n",
       "    .dataframe tbody tr th:only-of-type {\n",
       "        vertical-align: middle;\n",
       "    }\n",
       "\n",
       "    .dataframe tbody tr th {\n",
       "        vertical-align: top;\n",
       "    }\n",
       "\n",
       "    .dataframe thead th {\n",
       "        text-align: right;\n",
       "    }\n",
       "</style>\n",
       "<table border=\"1\" class=\"dataframe\">\n",
       "  <thead>\n",
       "    <tr style=\"text-align: right;\">\n",
       "      <th></th>\n",
       "      <th>SeasonID</th>\n",
       "      <th>Player</th>\n",
       "      <th>Season</th>\n",
       "      <th>Tm</th>\n",
       "      <th>Lg</th>\n",
       "      <th>Pos</th>\n",
       "      <th>G</th>\n",
       "      <th>GS</th>\n",
       "      <th>MPG</th>\n",
       "      <th>FG/G</th>\n",
       "      <th>...</th>\n",
       "      <th>USG%</th>\n",
       "      <th>OWS</th>\n",
       "      <th>DWS</th>\n",
       "      <th>WS</th>\n",
       "      <th>WS/48</th>\n",
       "      <th>OBPM</th>\n",
       "      <th>DBPM</th>\n",
       "      <th>BPM</th>\n",
       "      <th>VORP</th>\n",
       "      <th>PlayerID</th>\n",
       "    </tr>\n",
       "  </thead>\n",
       "  <tbody>\n",
       "    <tr>\n",
       "      <th>0</th>\n",
       "      <td>0</td>\n",
       "      <td>Ben Simmons</td>\n",
       "      <td>2017-2018</td>\n",
       "      <td>PHI</td>\n",
       "      <td>NBA</td>\n",
       "      <td>PG</td>\n",
       "      <td>81</td>\n",
       "      <td>81</td>\n",
       "      <td>33.7</td>\n",
       "      <td>6.7</td>\n",
       "      <td>...</td>\n",
       "      <td>22.3</td>\n",
       "      <td>4.2</td>\n",
       "      <td>5.0</td>\n",
       "      <td>9.2</td>\n",
       "      <td>0.162</td>\n",
       "      <td>1.0</td>\n",
       "      <td>3.6</td>\n",
       "      <td>4.6</td>\n",
       "      <td>4.6</td>\n",
       "      <td>0</td>\n",
       "    </tr>\n",
       "    <tr>\n",
       "      <th>1</th>\n",
       "      <td>1</td>\n",
       "      <td>Lonzo Ball</td>\n",
       "      <td>2017-18</td>\n",
       "      <td>LAL</td>\n",
       "      <td>NBA</td>\n",
       "      <td>PG</td>\n",
       "      <td>52</td>\n",
       "      <td>50</td>\n",
       "      <td>34.2</td>\n",
       "      <td>3.9</td>\n",
       "      <td>...</td>\n",
       "      <td>17.4</td>\n",
       "      <td>-0.5</td>\n",
       "      <td>2.5</td>\n",
       "      <td>2.0</td>\n",
       "      <td>0.053</td>\n",
       "      <td>-0.8</td>\n",
       "      <td>2.5</td>\n",
       "      <td>1.7</td>\n",
       "      <td>1.7</td>\n",
       "      <td>1</td>\n",
       "    </tr>\n",
       "    <tr>\n",
       "      <th>2</th>\n",
       "      <td>2</td>\n",
       "      <td>Jayson Tatum</td>\n",
       "      <td>2017-18</td>\n",
       "      <td>BOS</td>\n",
       "      <td>NBA</td>\n",
       "      <td>SF</td>\n",
       "      <td>80</td>\n",
       "      <td>80</td>\n",
       "      <td>30.5</td>\n",
       "      <td>5.0</td>\n",
       "      <td>...</td>\n",
       "      <td>19.5</td>\n",
       "      <td>3.0</td>\n",
       "      <td>4.0</td>\n",
       "      <td>7.1</td>\n",
       "      <td>0.139</td>\n",
       "      <td>-0.5</td>\n",
       "      <td>1.5</td>\n",
       "      <td>1.0</td>\n",
       "      <td>1.8</td>\n",
       "      <td>2</td>\n",
       "    </tr>\n",
       "    <tr>\n",
       "      <th>3</th>\n",
       "      <td>3</td>\n",
       "      <td>Josh Jackson</td>\n",
       "      <td>2017-18</td>\n",
       "      <td>PHO</td>\n",
       "      <td>NBA</td>\n",
       "      <td>SF</td>\n",
       "      <td>77</td>\n",
       "      <td>35</td>\n",
       "      <td>25.4</td>\n",
       "      <td>5.1</td>\n",
       "      <td>...</td>\n",
       "      <td>26.0</td>\n",
       "      <td>-2.0</td>\n",
       "      <td>1.2</td>\n",
       "      <td>-0.7</td>\n",
       "      <td>-0.018</td>\n",
       "      <td>-3.1</td>\n",
       "      <td>-1.2</td>\n",
       "      <td>-4.3</td>\n",
       "      <td>-1.1</td>\n",
       "      <td>3</td>\n",
       "    </tr>\n",
       "    <tr>\n",
       "      <th>4</th>\n",
       "      <td>4</td>\n",
       "      <td>De'Aaron Fox</td>\n",
       "      <td>2017-18</td>\n",
       "      <td>SAC</td>\n",
       "      <td>NBA</td>\n",
       "      <td>PG</td>\n",
       "      <td>73</td>\n",
       "      <td>60</td>\n",
       "      <td>27.8</td>\n",
       "      <td>4.5</td>\n",
       "      <td>...</td>\n",
       "      <td>23.4</td>\n",
       "      <td>-1.7</td>\n",
       "      <td>1.1</td>\n",
       "      <td>-0.6</td>\n",
       "      <td>-0.014</td>\n",
       "      <td>-2.8</td>\n",
       "      <td>-1.5</td>\n",
       "      <td>-4.4</td>\n",
       "      <td>-1.2</td>\n",
       "      <td>4</td>\n",
       "    </tr>\n",
       "  </tbody>\n",
       "</table>\n",
       "<p>5 rows × 52 columns</p>\n",
       "</div>"
      ],
      "text/plain": [
       "   SeasonID        Player     Season   Tm   Lg Pos   G  GS   MPG  FG/G  \\\n",
       "0         0   Ben Simmons  2017-2018  PHI  NBA  PG  81  81  33.7   6.7   \n",
       "1         1    Lonzo Ball    2017-18  LAL  NBA  PG  52  50  34.2   3.9   \n",
       "2         2  Jayson Tatum    2017-18  BOS  NBA  SF  80  80  30.5   5.0   \n",
       "3         3  Josh Jackson    2017-18  PHO  NBA  SF  77  35  25.4   5.1   \n",
       "4         4  De'Aaron Fox    2017-18  SAC  NBA  PG  73  60  27.8   4.5   \n",
       "\n",
       "     ...     USG%  OWS  DWS   WS  WS/48  OBPM  DBPM  BPM  VORP  PlayerID  \n",
       "0    ...     22.3  4.2  5.0  9.2  0.162   1.0   3.6  4.6   4.6         0  \n",
       "1    ...     17.4 -0.5  2.5  2.0  0.053  -0.8   2.5  1.7   1.7         1  \n",
       "2    ...     19.5  3.0  4.0  7.1  0.139  -0.5   1.5  1.0   1.8         2  \n",
       "3    ...     26.0 -2.0  1.2 -0.7 -0.018  -3.1  -1.2 -4.3  -1.1         3  \n",
       "4    ...     23.4 -1.7  1.1 -0.6 -0.014  -2.8  -1.5 -4.4  -1.2         4  \n",
       "\n",
       "[5 rows x 52 columns]"
      ]
     },
     "execution_count": 6,
     "metadata": {},
     "output_type": "execute_result"
    }
   ],
   "source": [
    "# Preview the rookies dataset\n",
    "\n",
    "rookieDf.head()"
   ]
  },
  {
   "cell_type": "code",
   "execution_count": 18,
   "metadata": {},
   "outputs": [
    {
     "data": {
      "text/plain": [
       "SeasonID          int64\n",
       "Player           object\n",
       "Season           object\n",
       "Age               int64\n",
       "Tm               object\n",
       "Lg               object\n",
       "Pos              object\n",
       "G                 int64\n",
       "GS                int64\n",
       "MPG             float64\n",
       "FG/G            float64\n",
       "FGA/G           float64\n",
       "FG%             float64\n",
       "3P/G            float64\n",
       "3PA/G           float64\n",
       "3P%             float64\n",
       "2P/G            float64\n",
       "2PA/G           float64\n",
       "2P%             float64\n",
       "eFG%            float64\n",
       "FT/G            float64\n",
       "FTA/G           float64\n",
       "FT%             float64\n",
       "ORB/G           float64\n",
       "DRB/G           float64\n",
       "TRB/G           float64\n",
       "AST/G           float64\n",
       "STL/G           float64\n",
       "BLK/G           float64\n",
       "TOV/G           float64\n",
       "PF/G            float64\n",
       "PTS/G           float64\n",
       "PER             float64\n",
       "TS%             float64\n",
       "3PAr            float64\n",
       "FTr             float64\n",
       "ORB%            float64\n",
       "DRB%            float64\n",
       "TRB%            float64\n",
       "AST%            float64\n",
       "STL%            float64\n",
       "BLK%            float64\n",
       "TOV%            float64\n",
       "USG%            float64\n",
       "OWS             float64\n",
       "DWS             float64\n",
       "WS              float64\n",
       "WS/48           float64\n",
       "OBPM            float64\n",
       "DBPM            float64\n",
       "BPM             float64\n",
       "VORP            float64\n",
       "PlayerID          int64\n",
       "Hall of Fame      int64\n",
       "All Star          int64\n",
       "dtype: object"
      ]
     },
     "execution_count": 18,
     "metadata": {},
     "output_type": "execute_result"
    }
   ],
   "source": [
    "pastDf.dtypes"
   ]
  },
  {
   "cell_type": "markdown",
   "metadata": {},
   "source": [
    "# Logistic Regression"
   ]
  },
  {
   "cell_type": "code",
   "execution_count": 9,
   "metadata": {},
   "outputs": [
    {
     "data": {
      "text/plain": [
       "Text(0,0.5,'All Star')"
      ]
     },
     "execution_count": 9,
     "metadata": {},
     "output_type": "execute_result"
    },
    {
     "data": {
      "image/png": "[encoded data removed]",
      "text/plain": [
       "<Figure size 432x288 with 1 Axes>"
      ]
     },
     "metadata": {},
     "output_type": "display_data"
    }
   ],
   "source": [
    "ytrain = np.array(pastDf['All Star'])\n",
    "Xtrain = np.array(pastDf[['G', 'MPG', 'FG/G', 'FGA/G', '2P%', '3P%', 'FT%', 'TRB/G', 'AST/G', 'STL/G', 'BLK/G', 'TOV/G', 'PF/G',\n",
    "                        'TS%', '3PAr', 'FTr']])\n",
    "from sklearn import linear_model\n",
    "\n",
    "regr = linear_model.LogisticRegression()\n",
    "regr.fit(Xtrain, ytrain)\n",
    "ytrain_pred = regr.predict(Xtrain)\n",
    "plt.plot(Xtrain,ytrain, 'ro')\n",
    "plt.plot(Xtrain,ytrain_pred, 'ro')\n",
    "plt.legend(['actual', 'predicted'])\n",
    "plt.xlabel('PTS/G')\n",
    "plt.ylabel('All Star')"
   ]
  },
  {
   "cell_type": "markdown",
   "metadata": {},
   "source": [
    "# Prepare Rookie Dataset for Predictions"
   ]
  },
  {
   "cell_type": "code",
   "execution_count": 56,
   "metadata": {},
   "outputs": [],
   "source": [
    "# Prepare rookies dataframe to be plugged into machine learning models by skipping columns that aren't parameters in the model\n",
    "rookieNames = rookieDf.iloc[:, 1]\n",
    "rookieFeatures = rookieDf[['G', 'MPG', 'FG/G', 'FGA/G', '2P%', '3P%', 'FT%', 'TRB/G', 'AST/G', 'STL/G', 'BLK/G', 'TOV/G', 'PF/G',\n",
    "                        'TS%', '3PAr', 'FTr']]\n"
   ]
  },
  {
   "cell_type": "markdown",
   "metadata": {},
   "source": [
    "# Cross Validation - Hall of Fame"
   ]
  },
  {
   "cell_type": "code",
   "execution_count": 45,
   "metadata": {},
   "outputs": [
    {
     "data": {
      "text/plain": [
       "LogisticRegression(C=100000.0, class_weight=None, dual=False,\n",
       "          fit_intercept=True, intercept_scaling=1, max_iter=100,\n",
       "          multi_class='ovr', n_jobs=1, penalty='l2', random_state=None,\n",
       "          solver='liblinear', tol=0.0001, verbose=0, warm_start=False)"
      ]
     },
     "execution_count": 45,
     "metadata": {},
     "output_type": "execute_result"
    }
   ],
   "source": [
    "vals, y = np.unique(pastDf['Hall of Fame'].values, return_inverse=True)\n",
    "\n",
    "xnames = pastDf.columns[9:25]\n",
    "X= np.array(pastDf[xnames].values)\n",
    "Xs = preprocessing.scale(X)\n",
    "\n",
    "logreg= linear_model.LogisticRegression(C=1e5)\n",
    "logreg.fit(Xs, y)"
   ]
  },
  {
   "cell_type": "code",
   "execution_count": 46,
   "metadata": {},
   "outputs": [
    {
     "name": "stdout",
     "output_type": "stream",
     "text": [
      "Precision 0.275\n",
      "Recall 0.09916666666666665\n",
      "f1 0.13071428571428573\n",
      "error rate 0.02140475563744845\n"
     ]
    },
    {
     "name": "stderr",
     "output_type": "stream",
     "text": [
      "/anaconda3/lib/python3.6/site-packages/sklearn/metrics/classification.py:1135: UndefinedMetricWarning: Precision and F-score are ill-defined and being set to 0.0 due to no predicted samples.\n",
      "  'precision', 'predicted', average, warn_for)\n",
      "/anaconda3/lib/python3.6/site-packages/sklearn/metrics/classification.py:1135: UndefinedMetricWarning: Precision and F-score are ill-defined and being set to 0.0 due to no predicted samples.\n",
      "  'precision', 'predicted', average, warn_for)\n"
     ]
    }
   ],
   "source": [
    "from sklearn.model_selection import KFold\n",
    "from sklearn.metrics import precision_recall_fscore_support\n",
    "\n",
    "nfold = 10\n",
    "kf = KFold(n_splits = nfold, shuffle=True)\n",
    "\n",
    "rec = []\n",
    "f1 = []\n",
    "prec = []\n",
    "err_rate = []\n",
    "\n",
    "for Itr, Its in kf.split(Xs):\n",
    "    Xtr = Xs[Itr,:]\n",
    "    ytr = y [Itr]\n",
    "    Xts = Xs[Its,:]\n",
    "    yts = y[Its]\n",
    "\n",
    "    logreg.fit(Xtr,ytr)\n",
    "    \n",
    "    yhat = logreg.predict(Xts)\n",
    "    \n",
    "    preci,reci,f1i,_= precision_recall_fscore_support(yts,yhat,average='binary')\n",
    "    \n",
    "    prec.append(preci)\n",
    "    rec.append(reci)\n",
    "    f1.append(f1i)\n",
    "    err_rate.append(np.mean(yts!=yhat))\n",
    "\n",
    "prec = np.mean(prec)\n",
    "rec = np.mean(rec)\n",
    "f1 = np.mean(f1)\n",
    "err_mean= np.mean(err_rate)\n",
    "\n",
    "print('Precision ' + str(prec))\n",
    "print('Recall ' + str(rec))\n",
    "print('f1 ' + str(f1))\n",
    "print('error rate ' + str(err_mean))"
   ]
  },
  {
   "cell_type": "markdown",
   "metadata": {},
   "source": [
    "# Make Prediction - Hall of Fame"
   ]
  },
  {
   "cell_type": "code",
   "execution_count": 58,
   "metadata": {},
   "outputs": [
    {
     "name": "stdout",
     "output_type": "stream",
     "text": [
      "Name = Ben Simmons, Predicted = 1\n",
      "Name = Lonzo Ball, Predicted = 0\n",
      "Name = Jayson Tatum, Predicted = 1\n",
      "Name = Josh Jackson, Predicted = 1\n",
      "Name = De'Aaron Fox, Predicted = 1\n",
      "Name = Lauri Markkanen, Predicted = 1\n",
      "Name = Frank Ntilikina, Predicted = 0\n",
      "Name = Dennis Smith, Predicted = 1\n",
      "Name = Zach Collins, Predicted = 1\n",
      "Name = Malik Monk, Predicted = 1\n",
      "Name = Luke Kennard, Predicted = 1\n",
      "Name = Donovan Mitchell, Predicted = 1\n",
      "Name = Bam Adebayo, Predicted = 1\n",
      "Name = Justin Jackson, Predicted = 1\n",
      "Name = T.J. Leaf, Predicted = 1\n",
      "Name = John Collins, Predicted = 1\n",
      "Name = Terrance Ferguson, Predicted = 1\n",
      "Name = Jarrett Allen, Predicted = 1\n",
      "Name = OG Anunoby, Predicted = 1\n",
      "Name = Kyle Kuzma, Predicted = 1\n",
      "Name = Josh Hart, Predicted = 1\n",
      "Name = Wesley Iwundu, Predicted = 1\n",
      "Name = Frank Mason, Predicted = 1\n",
      "Name = Semi Ojeleye, Predicted = 1\n",
      "Name = Jordan Bell, Predicted = 1\n",
      "Name = Dwayne Bacon, Predicted = 1\n",
      "Name = Tyler Dorsey, Predicted = 1\n",
      "Name = Dillon Brooks, Predicted = 1\n",
      "Name = Sterling Brown, Predicted = 1\n",
      "Name = Sindarius Thornwell, Predicted = 1\n"
     ]
    }
   ],
   "source": [
    "ynew = logreg.predict(rookieFeatures)\n",
    "for i in range(len(rookieFeatures)):\n",
    "    print(\"Name = %s, Predicted = %s\" % (rookieNames[i], ynew[i]))"
   ]
  },
  {
   "cell_type": "markdown",
   "metadata": {},
   "source": [
    "# Cross Validation - All Stars"
   ]
  },
  {
   "cell_type": "code",
   "execution_count": 59,
   "metadata": {},
   "outputs": [
    {
     "data": {
      "text/plain": [
       "LogisticRegression(C=100000.0, class_weight=None, dual=False,\n",
       "          fit_intercept=True, intercept_scaling=1, max_iter=100,\n",
       "          multi_class='ovr', n_jobs=1, penalty='l2', random_state=None,\n",
       "          solver='liblinear', tol=0.0001, verbose=0, warm_start=False)"
      ]
     },
     "execution_count": 59,
     "metadata": {},
     "output_type": "execute_result"
    }
   ],
   "source": [
    "vals, y = np.unique(pastDf['All Star'].values, return_inverse=True)\n",
    "\n",
    "xnames = pastDf.columns[9:25]\n",
    "X= np.array(pastDf[xnames].values)\n",
    "Xs = preprocessing.scale(X)\n",
    "\n",
    "logreg= linear_model.LogisticRegression(C=1e5)\n",
    "logreg.fit(Xs, y)"
   ]
  },
  {
   "cell_type": "code",
   "execution_count": 60,
   "metadata": {},
   "outputs": [
    {
     "name": "stdout",
     "output_type": "stream",
     "text": [
      "Precision 0.6427114552114552\n",
      "Recall 0.2845761950940979\n",
      "f1 0.39168541010646274\n",
      "error rate 0.0748910532011348\n"
     ]
    }
   ],
   "source": [
    "nfold = 10\n",
    "kf = KFold(n_splits = nfold, shuffle=True)\n",
    "\n",
    "rec = []\n",
    "f1 = []\n",
    "prec = []\n",
    "err_rate = []\n",
    "\n",
    "for Itr, Its in kf.split(Xs):\n",
    "    Xtr = Xs[Itr,:]\n",
    "    ytr = y [Itr]\n",
    "    Xts = Xs[Its,:]\n",
    "    yts = y[Its]\n",
    "\n",
    "    logreg.fit(Xtr,ytr)\n",
    "    \n",
    "    yhat = logreg.predict(Xts)\n",
    "    \n",
    "    preci,reci,f1i,_= precision_recall_fscore_support(yts,yhat,average='binary')\n",
    "    \n",
    "    prec.append(preci)\n",
    "    rec.append(reci)\n",
    "    f1.append(f1i)\n",
    "    err_rate.append(np.mean(yts!=yhat))\n",
    "\n",
    "prec = np.mean(prec)\n",
    "rec = np.mean(rec)\n",
    "f1 = np.mean(f1)\n",
    "err_mean= np.mean(err_rate)\n",
    "\n",
    "print('Precision ' + str(prec))\n",
    "print('Recall ' + str(rec))\n",
    "print('f1 ' + str(f1))\n",
    "print('error rate ' + str(err_mean))"
   ]
  },
  {
   "cell_type": "markdown",
   "metadata": {},
   "source": [
    "# Make Prediction - All Star"
   ]
  },
  {
   "cell_type": "code",
   "execution_count": 62,
   "metadata": {},
   "outputs": [
    {
     "name": "stdout",
     "output_type": "stream",
     "text": [
      "Name = Ben Simmons, Predicted = 1\n",
      "Name = Lonzo Ball, Predicted = 1\n",
      "Name = Jayson Tatum, Predicted = 1\n",
      "Name = Josh Jackson, Predicted = 1\n",
      "Name = De'Aaron Fox, Predicted = 1\n",
      "Name = Lauri Markkanen, Predicted = 1\n",
      "Name = Frank Ntilikina, Predicted = 1\n",
      "Name = Dennis Smith, Predicted = 1\n",
      "Name = Zach Collins, Predicted = 1\n",
      "Name = Malik Monk, Predicted = 1\n",
      "Name = Luke Kennard, Predicted = 1\n",
      "Name = Donovan Mitchell, Predicted = 1\n",
      "Name = Bam Adebayo, Predicted = 1\n",
      "Name = Justin Jackson, Predicted = 1\n",
      "Name = T.J. Leaf, Predicted = 1\n",
      "Name = John Collins, Predicted = 1\n",
      "Name = Terrance Ferguson, Predicted = 1\n",
      "Name = Jarrett Allen, Predicted = 1\n",
      "Name = OG Anunoby, Predicted = 1\n",
      "Name = Kyle Kuzma, Predicted = 1\n",
      "Name = Josh Hart, Predicted = 1\n",
      "Name = Wesley Iwundu, Predicted = 1\n",
      "Name = Frank Mason, Predicted = 1\n",
      "Name = Semi Ojeleye, Predicted = 1\n",
      "Name = Jordan Bell, Predicted = 1\n",
      "Name = Dwayne Bacon, Predicted = 1\n",
      "Name = Tyler Dorsey, Predicted = 1\n",
      "Name = Dillon Brooks, Predicted = 1\n",
      "Name = Sterling Brown, Predicted = 1\n",
      "Name = Sindarius Thornwell, Predicted = 1\n"
     ]
    }
   ],
   "source": [
    "ynew = logreg.predict(rookieFeatures)\n",
    "for i in range(len(rookieFeatures)):\n",
    "    print(\"Name = %s, Predicted = %s\" % (rookieNames[i], ynew[i]))"
   ]
  },
  {
   "cell_type": "markdown",
   "metadata": {},
   "source": [
    "# Creating data splits for HOF models"
   ]
  },
  {
   "cell_type": "code",
   "execution_count": 63,
   "metadata": {},
   "outputs": [],
   "source": [
    "trainData, testData = train_test_split(pastDf, test_size = 0.25, random_state = 0)\n",
    "\n",
    "xtrainData = trainData[['G', 'MPG', 'FG/G', 'FGA/G', '2P%', '3P%', 'FT%', 'TRB/G', 'AST/G', 'STL/G', 'BLK/G', 'TOV/G', 'PF/G',\n",
    "                'TS%', '3PAr', 'FTr']]\n",
    " \n",
    "xtestData = testData[['G', 'MPG', 'FG/G', 'FGA/G', '2P%', '3P%', 'FT%', 'TRB/G', 'AST/G', 'STL/G', 'BLK/G', 'TOV/G', 'PF/G',\n",
    "              'TS%', '3PAr', 'FTr']]\n",
    "\n",
    "ytrainData = trainData[['Hall of Fame']]\n",
    "\n",
    "\n",
    "ytestData = testData[['Hall of Fame']]"
   ]
  },
  {
   "cell_type": "markdown",
   "metadata": {},
   "source": [
    "# Create models and confusion matrices for HOF models"
   ]
  },
  {
   "cell_type": "code",
   "execution_count": 66,
   "metadata": {},
   "outputs": [
    {
     "name": "stdout",
     "output_type": "stream",
     "text": [
      "Accuracy score: 0.983\n",
      "Log loss: 0.075\n",
      "Area under ROC curve: 0.951\n",
      "Accuracy (cross validation score): 0.98 (+/- 0.00)\n"
     ]
    }
   ],
   "source": [
    "svcModel = SVC(kernel='rbf', gamma=1e-4, C=10, probability = True)\n",
    "\n",
    "svcModel.fit(xtrainData, ytrainData.values.ravel())\n",
    "\n",
    "ysvc = svcModel.predict(xtestData)\n",
    "\n",
    "\n",
    "probability = svcModel.predict_proba(xtestData)\n",
    "\n",
    "posProbability = probability[:, 1]\n",
    "\n",
    "\n",
    "fprSVC, tprSVC, thresholdSVC = metrics.roc_curve(ytestData, posProbability)\n",
    "roc_aucSVC = metrics.auc(fprSVC, tprSVC)\n",
    "\n",
    "cvScoreSVC = cross_val_score(svcModel, xtestData, ytestData.values.ravel(), cv = 3, scoring = 'accuracy')\n",
    "\n",
    "print(\"Accuracy score: %.3f\" % metrics.accuracy_score(ytestData, ysvc))\n",
    "print(\"Log loss: %.3f\" % metrics.log_loss(ytestData, probability))\n",
    "print(\"Area under ROC curve: %.3f\" % metrics.roc_auc_score(ytestData, posProbability))\n",
    "print(\"Accuracy (cross validation score): %0.2f (+/- %0.2f)\" % (cvScoreSVC.mean(), cvScoreSVC.std() * 2))"
   ]
  },
  {
   "cell_type": "code",
   "execution_count": 68,
   "metadata": {},
   "outputs": [
    {
     "data": {
      "image/png": "[encoded data removed]",
      "text/plain": [
       "<Figure size 432x288 with 2 Axes>"
      ]
     },
     "metadata": {},
     "output_type": "display_data"
    }
   ],
   "source": [
    "confusionmatrix = metrics.confusion_matrix(ytestData, ysvc)\n",
    "\n",
    "svcHofconfusionmatrix, ax = plt.subplots()\n",
    "\n",
    "sns.heatmap(confusionmatrix, annot=True, ax = ax, linewidth = 2)\n",
    "\n",
    "ax.set_xlabel(\"Predicted\")\n",
    "ax.set_ylabel(\"Actual\")\n",
    "\n",
    "labels = [\"Not HOF\", \"HOF\"]\n",
    "ax.set_xticklabels(labels)\n",
    "ax.set_yticklabels(labels)\n",
    "\n",
    "svcHofconfusionmatrix.suptitle(\"SVC Confusion Matrix\", weight = 'bold', size = 18, y = 1.04, x = .45)\n",
    "\n",
    "svcHofconfusionmatrix.savefig('svc-hof-cm.png', dpi = 400, bbox_inches = 'tight')"
   ]
  },
  {
   "cell_type": "code",
   "execution_count": 69,
   "metadata": {},
   "outputs": [
    {
     "name": "stdout",
     "output_type": "stream",
     "text": [
      "Accuracy score: 0.988\n",
      "Log loss: 0.045\n",
      "Area under ROC curve: 0.971\n",
      "Accuracy (cross validation score): 0.98 (+/- 0.00)\n"
     ]
    }
   ],
   "source": [
    "deepneuralnet = MLPClassifier(\n",
    "    solver='lbfgs',\n",
    "    hidden_layer_sizes=100,\n",
    "    max_iter=10000,\n",
    "    shuffle=False,\n",
    "    random_state=0,\n",
    "    activation='identity')\n",
    "\n",
    "deepneuralnet.fit(xtrainData, ytrainData.values.ravel())\n",
    "\n",
    "y_deepneuralnet = deepneuralnet.predict(xtestData)\n",
    "\n",
    "print(\"Accuracy score: %.3f\" % metrics.accuracy_score(ytestData, y_deepneuralnet))\n",
    "\n",
    "proba = deepneuralnet.predict_proba(xtestData)\n",
    "print(\"Log loss: %.3f\" % metrics.log_loss(ytestData, proba))\n",
    "\n",
    "posProb = proba[:, 1]\n",
    "print(\"Area under ROC curve: %.3f\" % metrics.roc_auc_score(ytestData, posProb))\n",
    "\n",
    "fprDNN, tprDNN, thresholdDNN = metrics.roc_curve(ytestData, posProb)\n",
    "roc_aucDNN = metrics.auc(fprDNN, tprDNN)\n",
    "\n",
    "cvScoreDNN = cross_val_score(deepneuralnet, xtestData, ytestData.values.ravel(), cv = 3, scoring = 'accuracy')\n",
    "print(\"Accuracy (cross validation score): %0.2f (+/- %0.2f)\" % (cvScoreDNN.mean(), cvScoreDNN.std() * 2))"
   ]
  },
  {
   "cell_type": "code",
   "execution_count": 71,
   "metadata": {},
   "outputs": [
    {
     "data": {
      "image/png": "[encoded data removed]",
      "text/plain": [
       "<Figure size 432x288 with 2 Axes>"
      ]
     },
     "metadata": {},
     "output_type": "display_data"
    }
   ],
   "source": [
    "confusionmatrix = metrics.confusion_matrix(ytestData, y_deepneuralnet)\n",
    "\n",
    "deepneuralnetHofCM, ax = plt.subplots()\n",
    "\n",
    "sns.heatmap(confusionmatrix, annot=True, ax = ax, linewidth = 2)\n",
    "\n",
    "ax.set_xlabel(\"Predicted\")\n",
    "ax.set_ylabel(\"Actual\")\n",
    "\n",
    "labels = [\"Not HOF\", \"HOF\"]\n",
    "ax.set_xticklabels(labels)\n",
    "ax.set_yticklabels(labels)\n",
    "\n",
    "deepneuralnetHofCM.suptitle(\"DNN Confusion Matrix\", weight = 'bold', size = 18, y = 1.04, x = .45)\n",
    "\n",
    "deepneuralnetHofCM.savefig('dnn-hof-cm.png', dpi = 400, bbox_inches = 'tight')"
   ]
  },
  {
   "cell_type": "markdown",
   "metadata": {},
   "source": [
    "# Randomized search CV"
   ]
  },
  {
   "cell_type": "code",
   "execution_count": 73,
   "metadata": {},
   "outputs": [],
   "source": [
    "# SVC\n",
    "\n",
    "C = [int(x) for x in np.linspace(start = 1, stop = 100, num = 10)]\n",
    "\n",
    "kernel = ['rbf', 'linear']\n",
    "\n",
    "gamma = [float(x) for x in np.linspace(start = 1e-5, stop = 10, num = 10)]\n",
    "\n",
    "random_grid = {'C': C,\n",
    "               'kernel': kernel,\n",
    "               'gamma': gamma}\n",
    "\n",
    "svc_random = RandomizedSearchCV(estimator = svcModel, param_distributions = random_grid, n_iter = 25, cv = 3, \n",
    "                                verbose=2, random_state=42, n_jobs = 20)"
   ]
  },
  {
   "cell_type": "code",
   "execution_count": 74,
   "metadata": {},
   "outputs": [
    {
     "name": "stdout",
     "output_type": "stream",
     "text": [
      "Fitting 3 folds for each of 25 candidates, totalling 75 fits\n",
      "[CV] kernel=linear, gamma=7.77778, C=45 ..............................\n",
      "[CV] kernel=linear, gamma=7.77778, C=45 ..............................\n",
      "[CV] kernel=linear, gamma=7.77778, C=45 ..............................\n",
      "[CV] kernel=linear, gamma=7.77778, C=1 ...............................\n",
      "[CV] kernel=linear, gamma=7.77778, C=1 ...............................\n",
      "[CV] kernel=linear, gamma=7.77778, C=1 ...............................\n",
      "[CV] kernel=rbf, gamma=5.55556, C=12 .................................\n",
      "[CV] kernel=rbf, gamma=5.55556, C=12 .................................\n",
      "[CV] kernel=rbf, gamma=5.55556, C=12 .................................\n",
      "[CV] kernel=rbf, gamma=10.0, C=78 ....................................\n",
      "[CV] kernel=rbf, gamma=10.0, C=78 ....................................\n",
      "[CV] kernel=rbf, gamma=10.0, C=78 ....................................\n",
      "[CV] kernel=rbf, gamma=4.44445, C=67 .................................\n",
      "[CV] kernel=rbf, gamma=4.44445, C=67 .................................\n",
      "[CV] kernel=linear, gamma=7.77778, C=56 ..............................\n",
      "[CV] kernel=rbf, gamma=4.44445, C=67 .................................\n",
      "[CV] kernel=linear, gamma=7.77778, C=56 ..............................\n",
      "[CV] kernel=linear, gamma=7.77778, C=56 ..............................\n",
      "[CV] kernel=linear, gamma=4.44445, C=34 ..............................\n",
      "[CV] kernel=linear, gamma=4.44445, C=34 ..............................\n",
      "[CV] ..................... kernel=rbf, gamma=10.0, C=78, total=   3.1s\n",
      "[CV] kernel=linear, gamma=4.44445, C=34 ..............................\n",
      "[CV] ..................... kernel=rbf, gamma=10.0, C=78, total=   3.1s\n",
      "[CV] kernel=rbf, gamma=5.55556, C=89 .................................\n",
      "[CV] ..................... kernel=rbf, gamma=10.0, C=78, total=   3.2s\n",
      "[CV] kernel=rbf, gamma=5.55556, C=89 .................................\n"
     ]
    },
    {
     "name": "stderr",
     "output_type": "stream",
     "text": [
      "[Parallel(n_jobs=20)]: Done   1 tasks      | elapsed:    3.5s\n"
     ]
    },
    {
     "name": "stdout",
     "output_type": "stream",
     "text": [
      "[CV] .................. kernel=rbf, gamma=5.55556, C=12, total=   3.3s\n",
      "[CV] kernel=rbf, gamma=5.55556, C=89 .................................\n",
      "[CV] .................. kernel=rbf, gamma=5.55556, C=12, total=   3.3s\n",
      "[CV] .................. kernel=rbf, gamma=4.44445, C=67, total=   3.3s\n",
      "[CV] .................. kernel=rbf, gamma=5.55556, C=12, total=   3.4s\n",
      "[CV] kernel=rbf, gamma=7.77778, C=89 .................................\n",
      "[CV] kernel=rbf, gamma=7.77778, C=89 .................................\n",
      "[CV] kernel=rbf, gamma=7.77778, C=89 .................................\n",
      "[CV] .................. kernel=rbf, gamma=4.44445, C=67, total=   3.3s\n",
      "[CV] kernel=linear, gamma=2.22223, C=23 ..............................\n",
      "[CV] .................. kernel=rbf, gamma=4.44445, C=67, total=   3.3s\n",
      "[CV] kernel=linear, gamma=2.22223, C=23 ..............................\n",
      "[CV] .................. kernel=rbf, gamma=5.55556, C=89, total=   3.0s\n",
      "[CV] kernel=linear, gamma=2.22223, C=23 ..............................\n",
      "[CV] .................. kernel=rbf, gamma=5.55556, C=89, total=   3.0s\n",
      "[CV] kernel=rbf, gamma=3.33334, C=34 .................................\n",
      "[CV] .................. kernel=rbf, gamma=7.77778, C=89, total=   2.9s\n",
      "[CV] kernel=rbf, gamma=3.33334, C=34 .................................\n",
      "[CV] .................. kernel=rbf, gamma=5.55556, C=89, total=   3.0s\n",
      "[CV] kernel=rbf, gamma=3.33334, C=34 .................................\n",
      "[CV] .................. kernel=rbf, gamma=7.77778, C=89, total=   2.9s\n",
      "[CV] .................. kernel=rbf, gamma=7.77778, C=89, total=   2.9s\n",
      "[CV] kernel=rbf, gamma=1.11112, C=100 ................................\n",
      "[CV] kernel=rbf, gamma=1.11112, C=100 ................................\n",
      "[CV] .................. kernel=rbf, gamma=3.33334, C=34, total=   3.1s\n",
      "[CV] .................. kernel=rbf, gamma=3.33334, C=34, total=   3.2s\n",
      "[CV] kernel=rbf, gamma=1.11112, C=100 ................................\n",
      "[CV] kernel=linear, gamma=2.22223, C=89 ..............................\n",
      "[CV] .................. kernel=rbf, gamma=3.33334, C=34, total=   3.3s\n",
      "[CV] kernel=linear, gamma=2.22223, C=89 ..............................\n",
      "[CV] ................. kernel=rbf, gamma=1.11112, C=100, total=   3.2s\n",
      "[CV] kernel=linear, gamma=2.22223, C=89 ..............................\n",
      "[CV] ................. kernel=rbf, gamma=1.11112, C=100, total=   3.3s\n",
      "[CV] kernel=rbf, gamma=10.0, C=34 ....................................\n",
      "[CV] ..................... kernel=rbf, gamma=10.0, C=34, total=   3.0s\n",
      "[CV] kernel=rbf, gamma=10.0, C=34 ....................................\n",
      "[CV] ................. kernel=rbf, gamma=1.11112, C=100, total=   3.6s\n",
      "[CV] kernel=rbf, gamma=10.0, C=34 ....................................\n",
      "[CV] ................ kernel=linear, gamma=7.77778, C=1, total=  15.1s\n",
      "[CV] kernel=rbf, gamma=3.33334, C=100 ................................\n",
      "[CV] ..................... kernel=rbf, gamma=10.0, C=34, total=   3.1s\n",
      "[CV] kernel=rbf, gamma=3.33334, C=100 ................................\n",
      "[CV] ..................... kernel=rbf, gamma=10.0, C=34, total=   2.9s\n",
      "[CV] kernel=rbf, gamma=3.33334, C=100 ................................\n",
      "[CV] ................. kernel=rbf, gamma=3.33334, C=100, total=   3.3s\n",
      "[CV] kernel=linear, gamma=8.88889, C=89 ..............................\n",
      "[CV] ................. kernel=rbf, gamma=3.33334, C=100, total=   3.4s\n",
      "[CV] kernel=linear, gamma=8.88889, C=89 ..............................\n",
      "[CV] ................. kernel=rbf, gamma=3.33334, C=100, total=   3.4s\n",
      "[CV] kernel=linear, gamma=8.88889, C=89 ..............................\n",
      "[CV] ................ kernel=linear, gamma=7.77778, C=1, total=  32.7s\n",
      "[CV] kernel=rbf, gamma=8.88889, C=23 .................................\n",
      "[CV] .................. kernel=rbf, gamma=8.88889, C=23, total=   3.2s\n",
      "[CV] kernel=rbf, gamma=8.88889, C=23 .................................\n",
      "[CV] .................. kernel=rbf, gamma=8.88889, C=23, total=   2.9s\n",
      "[CV] kernel=rbf, gamma=8.88889, C=23 .................................\n",
      "[CV] .................. kernel=rbf, gamma=8.88889, C=23, total=   2.9s\n",
      "[CV] kernel=rbf, gamma=6.66667, C=78 .................................\n",
      "[CV] ................ kernel=linear, gamma=7.77778, C=1, total=  44.3s\n",
      "[CV] kernel=rbf, gamma=6.66667, C=78 .................................\n",
      "[CV] .................. kernel=rbf, gamma=6.66667, C=78, total=   3.7s\n",
      "[CV] kernel=rbf, gamma=6.66667, C=78 .................................\n",
      "[CV] .................. kernel=rbf, gamma=6.66667, C=78, total=   3.8s\n",
      "[CV] kernel=rbf, gamma=1.11112, C=45 .................................\n",
      "[CV] .................. kernel=rbf, gamma=6.66667, C=78, total=   3.6s\n",
      "[CV] kernel=rbf, gamma=1.11112, C=45 .................................\n",
      "[CV] .................. kernel=rbf, gamma=1.11112, C=45, total=   3.8s\n",
      "[CV] kernel=rbf, gamma=1.11112, C=45 .................................\n",
      "[CV] .................. kernel=rbf, gamma=1.11112, C=45, total=   3.6s\n",
      "[CV] kernel=rbf, gamma=4.44445, C=34 .................................\n",
      "[CV] .................. kernel=rbf, gamma=1.11112, C=45, total=   3.5s\n",
      "[CV] kernel=rbf, gamma=4.44445, C=34 .................................\n",
      "[CV] .................. kernel=rbf, gamma=4.44445, C=34, total=   3.3s\n",
      "[CV] kernel=rbf, gamma=4.44445, C=34 .................................\n",
      "[CV] .................. kernel=rbf, gamma=4.44445, C=34, total=   3.2s\n",
      "[CV] kernel=rbf, gamma=2.22223, C=67 .................................\n",
      "[CV] .................. kernel=rbf, gamma=4.44445, C=34, total=   3.1s\n",
      "[CV] kernel=rbf, gamma=2.22223, C=67 .................................\n",
      "[CV] .................. kernel=rbf, gamma=2.22223, C=67, total=   3.5s\n",
      "[CV] kernel=rbf, gamma=2.22223, C=67 .................................\n",
      "[CV] .................. kernel=rbf, gamma=2.22223, C=67, total=   3.6s\n",
      "[CV] kernel=rbf, gamma=8.88889, C=1 ..................................\n",
      "[CV] .................. kernel=rbf, gamma=2.22223, C=67, total=   3.5s\n",
      "[CV] kernel=rbf, gamma=8.88889, C=1 ..................................\n",
      "[CV] ................... kernel=rbf, gamma=8.88889, C=1, total=   2.8s\n",
      "[CV] kernel=rbf, gamma=8.88889, C=1 ..................................\n",
      "[CV] ................... kernel=rbf, gamma=8.88889, C=1, total=   2.7s\n",
      "[CV] kernel=rbf, gamma=4.44445, C=78 .................................\n",
      "[CV] ................... kernel=rbf, gamma=8.88889, C=1, total=   2.6s\n",
      "[CV] kernel=rbf, gamma=4.44445, C=78 .................................\n",
      "[CV] .................. kernel=rbf, gamma=4.44445, C=78, total=   3.3s\n",
      "[CV] kernel=rbf, gamma=4.44445, C=78 .................................\n",
      "[CV] .................. kernel=rbf, gamma=4.44445, C=78, total=   3.3s\n",
      "[CV] kernel=linear, gamma=6.66667, C=45 ..............................\n",
      "[CV] .................. kernel=rbf, gamma=4.44445, C=78, total=   3.3s\n",
      "[CV] kernel=linear, gamma=6.66667, C=45 ..............................\n",
      "[CV] ............... kernel=linear, gamma=4.44445, C=34, total= 1.8min\n",
      "[CV] kernel=linear, gamma=6.66667, C=45 ..............................\n",
      "[CV] ............... kernel=linear, gamma=2.22223, C=23, total= 2.1min\n",
      "[CV] kernel=linear, gamma=2.22223, C=34 ..............................\n",
      "[CV] ............... kernel=linear, gamma=2.22223, C=23, total= 3.0min\n",
      "[CV] kernel=linear, gamma=2.22223, C=34 ..............................\n",
      "[CV] ............... kernel=linear, gamma=7.77778, C=56, total= 3.0min\n",
      "[CV] kernel=linear, gamma=2.22223, C=34 ..............................\n",
      "[CV] ............... kernel=linear, gamma=7.77778, C=45, total= 3.1min\n",
      "[CV] ............... kernel=linear, gamma=2.22223, C=23, total= 3.1min\n",
      "[CV] ............... kernel=linear, gamma=4.44445, C=34, total= 3.9min\n",
      "[CV] ............... kernel=linear, gamma=7.77778, C=45, total= 4.2min\n",
      "[CV] ............... kernel=linear, gamma=4.44445, C=34, total= 4.3min\n",
      "[CV] ............... kernel=linear, gamma=2.22223, C=34, total= 1.5min\n",
      "[CV] ............... kernel=linear, gamma=2.22223, C=34, total= 2.4min\n",
      "[CV] ............... kernel=linear, gamma=8.88889, C=89, total= 4.3min\n",
      "[CV] ............... kernel=linear, gamma=2.22223, C=89, total= 4.5min\n",
      "[CV] ............... kernel=linear, gamma=6.66667, C=45, total= 2.9min\n",
      "[CV] ............... kernel=linear, gamma=6.66667, C=45, total= 3.5min\n",
      "[CV] ............... kernel=linear, gamma=8.88889, C=89, total= 4.5min\n"
     ]
    },
    {
     "name": "stdout",
     "output_type": "stream",
     "text": [
      "[CV] ............... kernel=linear, gamma=7.77778, C=45, total= 4.9min\n",
      "[CV] ............... kernel=linear, gamma=7.77778, C=56, total= 5.0min\n",
      "[CV] ............... kernel=linear, gamma=2.22223, C=34, total= 1.9min\n",
      "[CV] ............... kernel=linear, gamma=2.22223, C=89, total= 4.8min\n",
      "[CV] ............... kernel=linear, gamma=6.66667, C=45, total= 3.7min\n",
      "[CV] ............... kernel=linear, gamma=7.77778, C=56, total= 5.0min\n",
      "[CV] ............... kernel=linear, gamma=8.88889, C=89, total= 4.7min\n",
      "[CV] ............... kernel=linear, gamma=2.22223, C=89, total= 5.0min\n"
     ]
    },
    {
     "name": "stderr",
     "output_type": "stream",
     "text": [
      "[Parallel(n_jobs=20)]: Done  75 out of  75 | elapsed:  5.1min finished\n"
     ]
    },
    {
     "ename": "NameError",
     "evalue": "name 'y_svc' is not defined",
     "output_type": "error",
     "traceback": [
      "\u001b[0;31m---------------------------------------------------------------------------\u001b[0m",
      "\u001b[0;31mNameError\u001b[0m                                 Traceback (most recent call last)",
      "\u001b[0;32m<ipython-input-74-e1c77ee7c201>\u001b[0m in \u001b[0;36m<module>\u001b[0;34m()\u001b[0m\n\u001b[1;32m      4\u001b[0m \u001b[0;34m\u001b[0m\u001b[0m\n\u001b[1;32m      5\u001b[0m \u001b[0msearchScore\u001b[0m \u001b[0;34m=\u001b[0m \u001b[0mmetrics\u001b[0m\u001b[0;34m.\u001b[0m\u001b[0maccuracy_score\u001b[0m\u001b[0;34m(\u001b[0m\u001b[0mytestData\u001b[0m\u001b[0;34m,\u001b[0m \u001b[0my_svcrand\u001b[0m\u001b[0;34m)\u001b[0m\u001b[0;34m\u001b[0m\u001b[0m\n\u001b[0;32m----> 6\u001b[0;31m \u001b[0mnonSearchScore\u001b[0m \u001b[0;34m=\u001b[0m \u001b[0mmetrics\u001b[0m\u001b[0;34m.\u001b[0m\u001b[0maccuracy_score\u001b[0m\u001b[0;34m(\u001b[0m\u001b[0mytestData\u001b[0m\u001b[0;34m,\u001b[0m \u001b[0my_svc\u001b[0m\u001b[0;34m)\u001b[0m\u001b[0;34m\u001b[0m\u001b[0m\n\u001b[0m\u001b[1;32m      7\u001b[0m \u001b[0mimprovement\u001b[0m \u001b[0;34m=\u001b[0m \u001b[0;34m(\u001b[0m\u001b[0msearchScore\u001b[0m \u001b[0;34m-\u001b[0m \u001b[0mnonSearchScore\u001b[0m\u001b[0;34m)\u001b[0m \u001b[0;34m/\u001b[0m \u001b[0mnonSearchScore\u001b[0m\u001b[0;34m\u001b[0m\u001b[0m\n\u001b[1;32m      8\u001b[0m \u001b[0;34m\u001b[0m\u001b[0m\n",
      "\u001b[0;31mNameError\u001b[0m: name 'y_svc' is not defined"
     ]
    }
   ],
   "source": [
    "svc_random.fit(xtrainData, ytrainData.values.ravel())\n",
    "\n",
    "y_svcrand = svc_random.predict(xtestData)\n",
    "\n",
    "searchScore = metrics.accuracy_score(ytestData, y_svcrand)\n",
    "nonSearchScore = metrics.accuracy_score(ytestData, y_svc)\n",
    "improvement = (searchScore - nonSearchScore) / nonSearchScore\n",
    "\n",
    "print(\"Percent improvement: %.5f\" % improvement)"
   ]
  },
  {
   "cell_type": "code",
   "execution_count": null,
   "metadata": {},
   "outputs": [],
   "source": [
    "# DNN\n",
    "\n",
    "hidden_layers = [int(x) for x in np.linspace(start = 10, stop = 500, num = 10)]\n",
    "\n",
    "activation = ['identity', 'logistic', 'relu', 'tanh']\n",
    "\n",
    "solver = ['lbfgs', 'adam', 'sgd']\n",
    "\n",
    "random_grid = {'hidden_layers': hidden_layers,\n",
    "               'activation': activation,\n",
    "               'solver': solver}\n",
    "\n",
    "dnn_random = RandomizedSearchCV(estimator = dnn, param_distributions = random_grid, n_iter = 20, cv = 3, \n",
    "                               verbose=2, random_state=42, n_jobs = 20)"
   ]
  },
  {
   "cell_type": "markdown",
   "metadata": {},
   "source": [
    "# ROC curves for HOF"
   ]
  },
  {
   "cell_type": "code",
   "execution_count": 61,
   "metadata": {},
   "outputs": [
    {
     "data": {
      "image/png": "[encoded data removed]",
      "text/plain": [
       "<Figure size 432x288 with 4 Axes>"
      ]
     },
     "metadata": {},
     "output_type": "display_data"
    }
   ],
   "source": [
    "\n",
    "rocHOF, ((ax1, ax2), (ax3, ax4)) = plt.subplots(2, 2, sharey = True, sharex = True)\n",
    "\n",
    "ax1.plot(fprSVC, tprSVC, label = 'ROC curve')\n",
    "ax1.plot([0, 1], [0, 1], linestyle = '--', label = 'Reference line')\n",
    "ax1.set_title(\"SVC: %.2f\" % roc_aucSVC, size = 21, x = .485, ha = 'center')\n",
    "\n",
    "ax3.plot(fprDNN, tprDNN)\n",
    "ax3.plot([0, 1], [0, 1], linestyle = '--')\n",
    "ax3.set_title(\"DNN: %.2f\" % roc_aucDNN, size = 21, x = .485, ha = 'center')\n",
    "\n",
    "rocHOF.text(-0.03, 0.5, \"True positive rate\", va='center', rotation='vertical', size = 18)\n",
    "rocHOF.text(0.5, -0.04, \"False positive rate\", ha = 'center', size = 18)\n",
    "\n",
    "rocHOF.savefig('roc-hof.png', dpi = 400, bbox_inches = 'tight')"
   ]
  },
  {
   "cell_type": "markdown",
   "metadata": {},
   "source": [
    "# Predict rookies"
   ]
  },
  {
   "cell_type": "code",
   "execution_count": 37,
   "metadata": {},
   "outputs": [
    {
     "name": "stdout",
     "output_type": "stream",
     "text": [
      "0 Ben Simmons\n",
      "0 Lonzo Ball\n",
      "0 Jayson Tatum\n",
      "0 Josh Jackson\n",
      "0 De'Aaron Fox\n",
      "0 Lauri Markkanen\n",
      "0 Frank Ntilikina\n",
      "0 Dennis Smith\n",
      "0 Zach Collins\n",
      "0 Malik Monk\n",
      "0 Luke Kennard\n",
      "0 Donovan Mitchell\n",
      "0 Bam Adebayo\n",
      "0 Justin Jackson\n",
      "0 T.J. Leaf\n",
      "0 John Collins\n",
      "0 Terrance Ferguson\n",
      "0 Jarrett Allen\n",
      "0 OG Anunoby\n",
      "0 Kyle Kuzma\n",
      "0 Josh Hart\n",
      "0 Wesley Iwundu\n",
      "0 Frank Mason\n",
      "0 Semi Ojeleye\n",
      "0 Jordan Bell\n",
      "0 Dwayne Bacon\n",
      "0 Tyler Dorsey\n",
      "0 Dillon Brooks\n",
      "0 Sterling Brown\n",
      "0 Sindarius Thornwell\n"
     ]
    }
   ],
   "source": [
    "svcPred = svc.predict(rookieFeatures)\n",
    "\n",
    "for i, j in zip(svcPred, rookieNames):\n",
    "    print(i, j)"
   ]
  },
  {
   "cell_type": "code",
   "execution_count": 39,
   "metadata": {},
   "outputs": [
    {
     "name": "stdout",
     "output_type": "stream",
     "text": [
      "0 Ben Simmons\n",
      "0 Lonzo Ball\n",
      "0 Jayson Tatum\n",
      "0 Josh Jackson\n",
      "0 De'Aaron Fox\n",
      "0 Lauri Markkanen\n",
      "0 Frank Ntilikina\n",
      "0 Dennis Smith\n",
      "0 Zach Collins\n",
      "0 Malik Monk\n",
      "0 Luke Kennard\n",
      "0 Donovan Mitchell\n",
      "0 Bam Adebayo\n",
      "0 Justin Jackson\n",
      "0 T.J. Leaf\n",
      "0 John Collins\n",
      "0 Terrance Ferguson\n",
      "0 Jarrett Allen\n",
      "0 OG Anunoby\n",
      "0 Kyle Kuzma\n",
      "0 Josh Hart\n",
      "0 Wesley Iwundu\n",
      "0 Frank Mason\n",
      "0 Semi Ojeleye\n",
      "0 Jordan Bell\n",
      "0 Dwayne Bacon\n",
      "0 Tyler Dorsey\n",
      "0 Dillon Brooks\n",
      "0 Sterling Brown\n",
      "0 Sindarius Thornwell\n"
     ]
    }
   ],
   "source": [
    "dnnPred = dnn.predict(rookieFeatures)\n",
    "\n",
    "for i, j in zip(dnnPred, rookieNames):\n",
    "    print(i, j)"
   ]
  },
  {
   "cell_type": "markdown",
   "metadata": {},
   "source": [
    "# Create data splits for All Star models"
   ]
  },
  {
   "cell_type": "code",
   "execution_count": 40,
   "metadata": {},
   "outputs": [],
   "source": [
    "trainData, testData = train_test_split(pastDf, test_size = 0.25, random_state = 0)\n",
    "\n",
    "xtrainData = trainData[['G', 'MPG', 'FG/G', 'FGA/G', '2P%', '3P%', 'FT%', 'TRB/G', 'AST/G', 'STL/G', 'BLK/G', 'TOV/G', 'PF/G',\n",
    "                'TS%', '3PAr', 'FTr']]\n",
    "ytrainData = trainData[['All Star']]\n",
    " \n",
    "xtestData = testData[['G', 'MPG', 'FG/G', 'FGA/G', '2P%', '3P%', 'FT%', 'TRB/G', 'AST/G', 'STL/G', 'BLK/G', 'TOV/G', 'PF/G',\n",
    "              'TS%', '3PAr', 'FTr']]\n",
    "ytestData = testData[['All Star']]"
   ]
  },
  {
   "cell_type": "markdown",
   "metadata": {},
   "source": [
    "# Create models and confusion matrices for All Star models"
   ]
  },
  {
   "cell_type": "code",
   "execution_count": 71,
   "metadata": {},
   "outputs": [
    {
     "name": "stdout",
     "output_type": "stream",
     "text": [
      "Accuracy score: 0.927\n",
      "Log loss: 0.231\n",
      "Area under ROC curve: 0.729\n",
      "Accuracy (cross validation score): 0.92 (+/- 0.00)\n"
     ]
    }
   ],
   "source": [
    "svcModel = SVC(kernel='rbf', gamma=1e-4, C=100, probability = True)\n",
    "svcModel.fit(xtrainData, ytrainData.values.ravel())\n",
    "\n",
    "Ysvc = svcModel.predict(xtestData)\n",
    "\n",
    "print(\"Accuracy score: %.3f\" % metrics.accuracy_score(ytestData, Ysvc))\n",
    "\n",
    "proba = svc.predict_proba(xtestData)\n",
    "print(\"Log loss: %.3f\" % metrics.log_loss(ytestData, proba))\n",
    "\n",
    "posProb = proba[:, 1]\n",
    "print(\"Area under ROC curve: %.3f\" % metrics.roc_auc_score(ytestData, posProb))\n",
    "\n",
    "fprSVC, tprSVC, thresholdSVC = metrics.roc_curve(ytestData, posProb)\n",
    "roc_aucSVC = metrics.auc(fprSVC, tprSVC)\n",
    "\n",
    "cvScoreSVC = cross_val_score(svcModel, xtestData, ytestData.values.ravel(), cv = 3, scoring = 'accuracy')\n",
    "print(\"Accuracy (cross validation score): %0.2f (+/- %0.2f)\" % (cvScoreSVC.mean(), cvScoreSVC.std() * 2))"
   ]
  },
  {
   "cell_type": "code",
   "execution_count": 72,
   "metadata": {},
   "outputs": [
    {
     "data": {
      "image/png": "[encoded data removed]",
      "text/plain": [
       "<Figure size 432x288 with 2 Axes>"
      ]
     },
     "metadata": {},
     "output_type": "display_data"
    }
   ],
   "source": [
    "cconfusionmatrix = metrics.confusion_matrix(ytestData, y_svc)\n",
    "svcHofAS, ax = plt.subplots()\n",
    "\n",
    "sns.heatmap(confusionmatrix, annot=True, ax = ax, linewidth = 2)\n",
    "\n",
    "ax.set_xlabel(\"Predicted\")\n",
    "ax.set_ylabel(\"Actual\")\n",
    "\n",
    "labels = [\"Not All Star\", \"All Star\"]\n",
    "ax.set_xticklabels(labels)\n",
    "ax.set_yticklabels(labels)\n",
    "\n",
    "svcHofAS.suptitle(\"SVC Confusion Matrix\", weight = 'bold', size = 18, y = 1.04, x = .45)\n",
    "\n",
    "svcHofAS.savefig('svc-hof-as.png', dpi = 400, bbox_inches = 'tight')"
   ]
  },
  {
   "cell_type": "code",
   "execution_count": 46,
   "metadata": {},
   "outputs": [
    {
     "name": "stdout",
     "output_type": "stream",
     "text": [
      "Accuracy score: 0.930\n",
      "Log loss: 0.208\n",
      "Area under ROC curve: 0.846\n",
      "Accuracy (cross validation score): 0.93 (+/- 0.01)\n"
     ]
    }
   ],
   "source": [
    "dnn = MLPClassifier(\n",
    "    solver='lbfgs',\n",
    "    hidden_layer_sizes=100,\n",
    "    max_iter=10000,\n",
    "    shuffle=False,\n",
    "    random_state=0,\n",
    "    activation='identity')\n",
    "\n",
    "dnn.fit(xtrainData, ytrainData.values.ravel())\n",
    "\n",
    "y_dnn = dnn.predict(xtestData)\n",
    "\n",
    "print(\"Accuracy score: %.3f\" % metrics.accuracy_score(ytestData, y_dnn))\n",
    "\n",
    "proba = dnn.predict_proba(xtestData)\n",
    "print(\"Log loss: %.3f\" % metrics.log_loss(ytestData, proba))\n",
    "\n",
    "posProb = proba[:, 1]\n",
    "print(\"Area under ROC curve: %.3f\" % metrics.roc_auc_score(ytestData, posProb))\n",
    "\n",
    "fprDNN, tprDNN, thresholdDNN = metrics.roc_curve(ytestData, posProb)\n",
    "roc_aucDNN = metrics.auc(fprDNN, tprDNN)\n",
    "\n",
    "cvScoreDNN = cross_val_score(dnn, xtestData, ytestData.values.ravel(), cv = 3, scoring = 'accuracy')\n",
    "print(\"Accuracy (cross validation score): %0.2f (+/- %0.2f)\" % (cvScoreDNN.mean(), cvScoreDNN.std() * 2))"
   ]
  },
  {
   "cell_type": "code",
   "execution_count": 73,
   "metadata": {},
   "outputs": [
    {
     "data": {
      "image/png": "[encoded data removed]",
      "text/plain": [
       "<Figure size 432x288 with 2 Axes>"
      ]
     },
     "metadata": {},
     "output_type": "display_data"
    }
   ],
   "source": [
    "confusionmatrix = metrics.confusion_matrix(ytestData, y_dnn)\n",
    "\n",
    "dnnHofAS, ax = plt.subplots()\n",
    "\n",
    "sns.heatmap(confusionmatrix, annot=True, ax = ax, linewidth = 2)\n",
    "\n",
    "ax.set_xlabel(\"Predicted\")\n",
    "ax.set_ylabel(\"Actual\")\n",
    "\n",
    "labels = [\"Not All Star\", \"All Star\"]\n",
    "ax.set_xticklabels(labels)\n",
    "ax.set_yticklabels(labels)\n",
    "\n",
    "dnnHofAS.suptitle(\"DNN Confusion Matrix\", weight = 'bold', size = 18, y = 1.04, x = .45)\n",
    "\n",
    "dnnHofAS.savefig('dnn-hof-as.png', dpi = 400, bbox_inches = 'tight')"
   ]
  },
  {
   "cell_type": "markdown",
   "metadata": {},
   "source": [
    "# Randomized search CV"
   ]
  },
  {
   "cell_type": "code",
   "execution_count": 48,
   "metadata": {},
   "outputs": [],
   "source": [
    "# SVC\n",
    "\n",
    "C = [int(x) for x in np.linspace(start = 1, stop = 100, num = 10)]\n",
    "\n",
    "kernel = ['rbf', 'linear']\n",
    "\n",
    "gamma = [float(x) for x in np.linspace(start = 1e-5, stop = 10, num = 10)]\n",
    "\n",
    "random_grid = {'C': C,\n",
    "               'kernel': kernel,\n",
    "               'gamma': gamma}\n",
    "\n",
    "svc_random = RandomizedSearchCV(estimator = svc, param_distributions = random_grid, n_iter = 25, cv = 3, \n",
    "                                verbose=2, random_state=42, n_jobs = 20)"
   ]
  },
  {
   "cell_type": "code",
   "execution_count": 49,
   "metadata": {},
   "outputs": [
    {
     "name": "stdout",
     "output_type": "stream",
     "text": [
      "Fitting 3 folds for each of 25 candidates, totalling 75 fits\n",
      "[CV] kernel=linear, gamma=7.77778, C=45 ..............................\n",
      "[CV] kernel=linear, gamma=7.77778, C=45 ..............................\n",
      "[CV] kernel=linear, gamma=7.77778, C=45 ..............................\n",
      "[CV] kernel=linear, gamma=7.77778, C=1 ...............................\n",
      "[CV] kernel=linear, gamma=7.77778, C=1 ...............................\n",
      "[CV] kernel=linear, gamma=7.77778, C=1 ...............................\n",
      "[CV] kernel=rbf, gamma=5.55556, C=12 .................................\n",
      "[CV] kernel=rbf, gamma=5.55556, C=12 .................................\n",
      "[CV] kernel=rbf, gamma=5.55556, C=12 .................................\n",
      "[CV] kernel=rbf, gamma=10.0, C=78 ....................................\n",
      "[CV] kernel=rbf, gamma=10.0, C=78 ....................................\n",
      "[CV] kernel=rbf, gamma=10.0, C=78 ....................................\n",
      "[CV] kernel=rbf, gamma=4.44445, C=67 .................................\n",
      "[CV] kernel=rbf, gamma=4.44445, C=67 .................................\n",
      "[CV] kernel=rbf, gamma=4.44445, C=67 .................................\n",
      "[CV] kernel=linear, gamma=7.77778, C=56 ..............................\n",
      "[CV] kernel=linear, gamma=7.77778, C=56 ..............................\n",
      "[CV] kernel=linear, gamma=7.77778, C=56 ..............................\n",
      "[CV] kernel=linear, gamma=4.44445, C=34 ..............................\n",
      "[CV] kernel=linear, gamma=4.44445, C=34 ..............................\n",
      "[CV] ..................... kernel=rbf, gamma=10.0, C=78, total=   3.1s\n",
      "[CV] kernel=linear, gamma=4.44445, C=34 ..............................\n",
      "[CV] ..................... kernel=rbf, gamma=10.0, C=78, total=   3.2s\n",
      "[CV] kernel=rbf, gamma=5.55556, C=89 .................................\n",
      "[CV] .................. kernel=rbf, gamma=5.55556, C=12, total=   3.3s\n",
      "[CV] kernel=rbf, gamma=5.55556, C=89 .................................\n",
      "[CV] .................. kernel=rbf, gamma=4.44445, C=67, total=   3.3s\n",
      "[CV] ..................... kernel=rbf, gamma=10.0, C=78, total=   3.3s\n",
      "[CV] .................. kernel=rbf, gamma=5.55556, C=12, total=   3.4s\n"
     ]
    },
    {
     "name": "stderr",
     "output_type": "stream",
     "text": [
      "[Parallel(n_jobs=20)]: Done   1 tasks      | elapsed:    3.6s\n"
     ]
    },
    {
     "name": "stdout",
     "output_type": "stream",
     "text": [
      "[CV] kernel=rbf, gamma=7.77778, C=89 .................................\n",
      "[CV] kernel=rbf, gamma=7.77778, C=89 .................................\n",
      "[CV] kernel=rbf, gamma=5.55556, C=89 .................................\n",
      "[CV] .................. kernel=rbf, gamma=5.55556, C=12, total=   3.4s\n",
      "[CV] kernel=rbf, gamma=7.77778, C=89 .................................\n",
      "[CV] .................. kernel=rbf, gamma=4.44445, C=67, total=   3.4s\n",
      "[CV] kernel=linear, gamma=2.22223, C=23 ..............................\n",
      "[CV] .................. kernel=rbf, gamma=4.44445, C=67, total=   3.5s\n",
      "[CV] kernel=linear, gamma=2.22223, C=23 ..............................\n",
      "[CV] .................. kernel=rbf, gamma=7.77778, C=89, total=   3.1s\n",
      "[CV] kernel=linear, gamma=2.22223, C=23 ..............................\n",
      "[CV] .................. kernel=rbf, gamma=5.55556, C=89, total=   3.3s\n",
      "[CV] kernel=rbf, gamma=3.33334, C=34 .................................\n",
      "[CV] .................. kernel=rbf, gamma=7.77778, C=89, total=   3.2s\n",
      "[CV] kernel=rbf, gamma=3.33334, C=34 .................................\n",
      "[CV] .................. kernel=rbf, gamma=7.77778, C=89, total=   3.3s\n",
      "[CV] .................. kernel=rbf, gamma=5.55556, C=89, total=   3.4s\n",
      "[CV] kernel=rbf, gamma=3.33334, C=34 .................................\n",
      "[CV] kernel=rbf, gamma=1.11112, C=100 ................................\n",
      "[CV] .................. kernel=rbf, gamma=5.55556, C=89, total=   3.3s\n",
      "[CV] kernel=rbf, gamma=1.11112, C=100 ................................\n",
      "[CV] ................ kernel=linear, gamma=7.77778, C=1, total=  10.0s\n",
      "[CV] kernel=rbf, gamma=1.11112, C=100 ................................\n",
      "[CV] .................. kernel=rbf, gamma=3.33334, C=34, total=   3.3s\n",
      "[CV] kernel=linear, gamma=2.22223, C=89 ..............................\n",
      "[CV] .................. kernel=rbf, gamma=3.33334, C=34, total=   3.3s\n",
      "[CV] .................. kernel=rbf, gamma=3.33334, C=34, total=   3.4s\n",
      "[CV] kernel=linear, gamma=2.22223, C=89 ..............................\n",
      "[CV] kernel=linear, gamma=2.22223, C=89 ..............................\n",
      "[CV] ................. kernel=rbf, gamma=1.11112, C=100, total=   3.3s\n",
      "[CV] kernel=rbf, gamma=10.0, C=34 ....................................\n",
      "[CV] ................. kernel=rbf, gamma=1.11112, C=100, total=   3.3s\n",
      "[CV] kernel=rbf, gamma=10.0, C=34 ....................................\n",
      "[CV] ................ kernel=linear, gamma=7.77778, C=1, total=  11.9s\n",
      "[CV] kernel=rbf, gamma=10.0, C=34 ....................................\n",
      "[CV] ................. kernel=rbf, gamma=1.11112, C=100, total=   3.6s\n",
      "[CV] kernel=rbf, gamma=3.33334, C=100 ................................\n",
      "[CV] ..................... kernel=rbf, gamma=10.0, C=34, total=   3.1s\n",
      "[CV] kernel=rbf, gamma=3.33334, C=100 ................................\n",
      "[CV] ..................... kernel=rbf, gamma=10.0, C=34, total=   3.3s\n",
      "[CV] kernel=rbf, gamma=3.33334, C=100 ................................\n",
      "[CV] ..................... kernel=rbf, gamma=10.0, C=34, total=   3.1s\n",
      "[CV] kernel=linear, gamma=8.88889, C=89 ..............................\n",
      "[CV] ................. kernel=rbf, gamma=3.33334, C=100, total=   3.3s\n",
      "[CV] kernel=linear, gamma=8.88889, C=89 ..............................\n",
      "[CV] ................. kernel=rbf, gamma=3.33334, C=100, total=   3.3s\n",
      "[CV] kernel=linear, gamma=8.88889, C=89 ..............................\n",
      "[CV] ................. kernel=rbf, gamma=3.33334, C=100, total=   3.2s\n",
      "[CV] kernel=rbf, gamma=8.88889, C=23 .................................\n",
      "[CV] .................. kernel=rbf, gamma=8.88889, C=23, total=   2.9s\n",
      "[CV] kernel=rbf, gamma=8.88889, C=23 .................................\n",
      "[CV] .................. kernel=rbf, gamma=8.88889, C=23, total=   2.7s\n",
      "[CV] kernel=rbf, gamma=8.88889, C=23 .................................\n",
      "[CV] .................. kernel=rbf, gamma=8.88889, C=23, total=   2.8s\n",
      "[CV] kernel=rbf, gamma=6.66667, C=78 .................................\n",
      "[CV] .................. kernel=rbf, gamma=6.66667, C=78, total=   2.9s\n",
      "[CV] kernel=rbf, gamma=6.66667, C=78 .................................\n",
      "[CV] ................ kernel=linear, gamma=7.77778, C=1, total=  33.5s\n",
      "[CV] kernel=rbf, gamma=6.66667, C=78 .................................\n",
      "[CV] .................. kernel=rbf, gamma=6.66667, C=78, total=   3.1s\n",
      "[CV] kernel=rbf, gamma=1.11112, C=45 .................................\n",
      "[CV] .................. kernel=rbf, gamma=6.66667, C=78, total=   2.9s\n",
      "[CV] kernel=rbf, gamma=1.11112, C=45 .................................\n",
      "[CV] .................. kernel=rbf, gamma=1.11112, C=45, total=   3.1s\n",
      "[CV] kernel=rbf, gamma=1.11112, C=45 .................................\n",
      "[CV] .................. kernel=rbf, gamma=1.11112, C=45, total=   3.1s\n",
      "[CV] kernel=rbf, gamma=4.44445, C=34 .................................\n",
      "[CV] .................. kernel=rbf, gamma=1.11112, C=45, total=   3.2s\n",
      "[CV] kernel=rbf, gamma=4.44445, C=34 .................................\n",
      "[CV] .................. kernel=rbf, gamma=4.44445, C=34, total=   2.9s\n",
      "[CV] kernel=rbf, gamma=4.44445, C=34 .................................\n",
      "[CV] .................. kernel=rbf, gamma=4.44445, C=34, total=   3.0s\n",
      "[CV] kernel=rbf, gamma=2.22223, C=67 .................................\n",
      "[CV] .................. kernel=rbf, gamma=4.44445, C=34, total=   3.0s\n",
      "[CV] kernel=rbf, gamma=2.22223, C=67 .................................\n",
      "[CV] .................. kernel=rbf, gamma=2.22223, C=67, total=   3.2s\n",
      "[CV] kernel=rbf, gamma=2.22223, C=67 .................................\n",
      "[CV] .................. kernel=rbf, gamma=2.22223, C=67, total=   3.1s\n",
      "[CV] kernel=rbf, gamma=8.88889, C=1 ..................................\n",
      "[CV] .................. kernel=rbf, gamma=2.22223, C=67, total=   3.1s\n",
      "[CV] kernel=rbf, gamma=8.88889, C=1 ..................................\n",
      "[CV] ................... kernel=rbf, gamma=8.88889, C=1, total=   2.7s\n",
      "[CV] kernel=rbf, gamma=8.88889, C=1 ..................................\n",
      "[CV] ................... kernel=rbf, gamma=8.88889, C=1, total=   2.7s\n",
      "[CV] kernel=rbf, gamma=4.44445, C=78 .................................\n",
      "[CV] ................... kernel=rbf, gamma=8.88889, C=1, total=   2.7s\n",
      "[CV] kernel=rbf, gamma=4.44445, C=78 .................................\n",
      "[CV] .................. kernel=rbf, gamma=4.44445, C=78, total=   2.9s\n",
      "[CV] kernel=rbf, gamma=4.44445, C=78 .................................\n",
      "[CV] .................. kernel=rbf, gamma=4.44445, C=78, total=   3.0s\n",
      "[CV] kernel=linear, gamma=6.66667, C=45 ..............................\n",
      "[CV] .................. kernel=rbf, gamma=4.44445, C=78, total=   3.1s\n",
      "[CV] kernel=linear, gamma=6.66667, C=45 ..............................\n",
      "[CV] ............... kernel=linear, gamma=2.22223, C=23, total= 2.6min\n",
      "[CV] kernel=linear, gamma=6.66667, C=45 ..............................\n",
      "[CV] ............... kernel=linear, gamma=4.44445, C=34, total= 3.8min\n",
      "[CV] kernel=linear, gamma=2.22223, C=34 ..............................\n",
      "[CV] ............... kernel=linear, gamma=2.22223, C=23, total= 3.8min\n",
      "[CV] kernel=linear, gamma=2.22223, C=34 ..............................\n",
      "[CV] ............... kernel=linear, gamma=4.44445, C=34, total= 4.3min\n",
      "[CV] kernel=linear, gamma=2.22223, C=34 ..............................\n",
      "[CV] ............... kernel=linear, gamma=7.77778, C=45, total= 4.8min\n",
      "[CV] ............... kernel=linear, gamma=2.22223, C=23, total= 4.9min\n",
      "[CV] ............... kernel=linear, gamma=7.77778, C=45, total= 5.1min\n",
      "[CV] ............... kernel=linear, gamma=4.44445, C=34, total= 5.6min\n",
      "[CV] ............... kernel=linear, gamma=7.77778, C=56, total= 6.2min\n",
      "[CV] ............... kernel=linear, gamma=7.77778, C=56, total= 6.3min\n",
      "[CV] ............... kernel=linear, gamma=6.66667, C=45, total= 5.3min\n",
      "[CV] ............... kernel=linear, gamma=2.22223, C=34, total= 2.8min\n",
      "[CV] ............... kernel=linear, gamma=6.66667, C=45, total= 4.4min\n",
      "[CV] ............... kernel=linear, gamma=6.66667, C=45, total= 6.3min\n",
      "[CV] ............... kernel=linear, gamma=2.22223, C=34, total= 3.0min\n",
      "[CV] ............... kernel=linear, gamma=8.88889, C=89, total= 7.2min\n",
      "[CV] ............... kernel=linear, gamma=2.22223, C=89, total= 7.4min\n",
      "[CV] ............... kernel=linear, gamma=7.77778, C=45, total= 7.6min\n",
      "[CV] ............... kernel=linear, gamma=2.22223, C=89, total= 7.5min\n"
     ]
    },
    {
     "name": "stdout",
     "output_type": "stream",
     "text": [
      "[CV] ............... kernel=linear, gamma=2.22223, C=34, total= 3.9min\n",
      "[CV] ............... kernel=linear, gamma=7.77778, C=56, total= 7.8min\n",
      "[CV] ............... kernel=linear, gamma=8.88889, C=89, total= 7.6min\n",
      "[CV] ............... kernel=linear, gamma=2.22223, C=89, total= 8.0min\n",
      "[CV] ............... kernel=linear, gamma=8.88889, C=89, total= 7.9min\n"
     ]
    },
    {
     "name": "stderr",
     "output_type": "stream",
     "text": [
      "[Parallel(n_jobs=20)]: Done  75 out of  75 | elapsed:  8.2min finished\n"
     ]
    },
    {
     "name": "stdout",
     "output_type": "stream",
     "text": [
      "Percent improvement: 0.00000\n"
     ]
    }
   ],
   "source": [
    "svc_random.fit(xtrainData, ytrainData.values.ravel())\n",
    "\n",
    "y_svcrand = svc_random.predict(xtestData)\n",
    "\n",
    "searchScore = metrics.accuracy_score(ytestData, y_svcrand)\n",
    "nonSearchScore = metrics.accuracy_score(ytestData, y_svc)\n",
    "improvement = (searchScore - nonSearchScore) / nonSearchScore\n",
    "\n",
    "print(\"Percent improvement: %.5f\" % improvement)"
   ]
  },
  {
   "cell_type": "code",
   "execution_count": 52,
   "metadata": {},
   "outputs": [],
   "source": [
    "# DNN\n",
    "\n",
    "hidden_layers = [int(x) for x in np.linspace(start = 10, stop = 500, num = 10)]\n",
    "\n",
    "activation = ['identity', 'logistic', 'relu', 'tanh']\n",
    "\n",
    "solver = ['lbfgs', 'adam', 'sgd']\n",
    "\n",
    "random_grid = {'hidden_layers': hidden_layers,\n",
    "               'activation': activation,\n",
    "               'solver': solver}\n",
    "\n",
    "dnn_random = RandomizedSearchCV(estimator = dnn, param_distributions = random_grid, n_iter = 25, cv = 3, \n",
    "                               verbose=2, random_state=42, n_jobs = 20)"
   ]
  },
  {
   "cell_type": "markdown",
   "metadata": {},
   "source": [
    "# ROC curves for All Star"
   ]
  },
  {
   "cell_type": "code",
   "execution_count": 74,
   "metadata": {},
   "outputs": [
    {
     "data": {
      "image/png": "[encoded data removed]",
      "text/plain": [
       "<Figure size 432x288 with 4 Axes>"
      ]
     },
     "metadata": {},
     "output_type": "display_data"
    }
   ],
   "source": [
    "rocAS, ((ax1, ax2), (ax3, ax4)) = plt.subplots(2, 2, sharey = True, sharex = True)\n",
    "\n",
    "ax1.plot(fprSVC, tprSVC, label = 'ROC curve')\n",
    "ax1.plot([0, 1], [0, 1], linestyle = '--', label = 'Reference line')\n",
    "ax1.set_title(\"SVC: %.2f\" % roc_aucSVC, size = 21, x = .485, ha = 'center')\n",
    "\n",
    "ax4.plot(fprDNN, tprDNN)\n",
    "ax4.plot([0, 1], [0, 1], linestyle = '--')\n",
    "ax4.set_title(\"DNN: %.2f\" % roc_aucDNN, size = 21, x = .485, ha = 'center')\n",
    "\n",
    "rocAS.text(-0.03, 0.5, \"True positive rate\", va='center', rotation='vertical', size = 18)\n",
    "rocAS.text(0.5, -0.04, \"False positive rate\", ha = 'center', size = 18)\n",
    "\n",
    "rocAS.savefig('roc-as.png', dpi = 400, bbox_inches = 'tight')"
   ]
  },
  {
   "cell_type": "markdown",
   "metadata": {},
   "source": [
    "# Predict rookies "
   ]
  },
  {
   "cell_type": "code",
   "execution_count": 56,
   "metadata": {},
   "outputs": [
    {
     "name": "stdout",
     "output_type": "stream",
     "text": [
      "1 Ben Simmons\n",
      "0 Lonzo Ball\n",
      "0 Jayson Tatum\n",
      "0 Josh Jackson\n",
      "0 De'Aaron Fox\n",
      "0 Lauri Markkanen\n",
      "0 Frank Ntilikina\n",
      "0 Dennis Smith\n",
      "0 Zach Collins\n",
      "0 Malik Monk\n",
      "0 Luke Kennard\n",
      "0 Donovan Mitchell\n",
      "0 Bam Adebayo\n",
      "0 Justin Jackson\n",
      "0 T.J. Leaf\n",
      "0 John Collins\n",
      "0 Terrance Ferguson\n",
      "0 Jarrett Allen\n",
      "0 OG Anunoby\n",
      "0 Kyle Kuzma\n",
      "0 Josh Hart\n",
      "0 Wesley Iwundu\n",
      "0 Frank Mason\n",
      "0 Semi Ojeleye\n",
      "0 Jordan Bell\n",
      "0 Dwayne Bacon\n",
      "0 Tyler Dorsey\n",
      "0 Dillon Brooks\n",
      "0 Sterling Brown\n",
      "0 Sindarius Thornwell\n"
     ]
    }
   ],
   "source": [
    "svcPred = svc.predict(rookieFeatures)\n",
    "\n",
    "for i, j in zip(svcPred, rookieNames):\n",
    "    print(i, j)"
   ]
  },
  {
   "cell_type": "code",
   "execution_count": 58,
   "metadata": {},
   "outputs": [
    {
     "name": "stdout",
     "output_type": "stream",
     "text": [
      "1 Ben Simmons\n",
      "0 Lonzo Ball\n",
      "0 Jayson Tatum\n",
      "0 Josh Jackson\n",
      "0 De'Aaron Fox\n",
      "0 Lauri Markkanen\n",
      "0 Frank Ntilikina\n",
      "0 Dennis Smith\n",
      "0 Zach Collins\n",
      "0 Malik Monk\n",
      "0 Luke Kennard\n",
      "1 Donovan Mitchell\n",
      "0 Bam Adebayo\n",
      "0 Justin Jackson\n",
      "0 T.J. Leaf\n",
      "0 John Collins\n",
      "0 Terrance Ferguson\n",
      "0 Jarrett Allen\n",
      "0 OG Anunoby\n",
      "0 Kyle Kuzma\n",
      "0 Josh Hart\n",
      "0 Wesley Iwundu\n",
      "0 Frank Mason\n",
      "0 Semi Ojeleye\n",
      "0 Jordan Bell\n",
      "0 Dwayne Bacon\n",
      "0 Tyler Dorsey\n",
      "0 Dillon Brooks\n",
      "0 Sterling Brown\n",
      "0 Sindarius Thornwell\n"
     ]
    }
   ],
   "source": [
    "dnnPred = dnn.predict(rookieFeatures)\n",
    "\n",
    "for i, j in zip(dnnPred, rookieNames):\n",
    "    print(i, j)"
   ]
  },
  {
   "cell_type": "code",
   "execution_count": null,
   "metadata": {},
   "outputs": [],
   "source": []
  }
 ],
 "metadata": {
  "kernelspec": {
   "display_name": "Python 3",
   "language": "python",
   "name": "python3"
  },
  "language_info": {
   "codemirror_mode": {
    "name": "ipython",
    "version": 3
   },
   "file_extension": ".py",
   "mimetype": "text/x-python",
   "name": "python",
   "nbconvert_exporter": "python",
   "pygments_lexer": "ipython3",
   "version": "3.6.5"
  }
 },
 "nbformat": 4,
 "nbformat_minor": 2
}
